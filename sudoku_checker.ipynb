{
 "cells": [
  {
   "cell_type": "markdown",
   "metadata": {
    "collapsed": false
   },
   "source": [
   ]
  },
  {
   "cell_type": "code",
   "execution_count": 0,
   "metadata": {
    "collapsed": false
   },
   "outputs": [
   ],
   "source": [
   ]
  },
  {
   "cell_type": "code",
   "execution_count": 1,
   "metadata": {
    "collapsed": false
   },
   "outputs": [
    {
     "name": "stdout",
     "output_type": "stream",
     "text": [
      "[[5 3 4 6 7 8 9 1 2]\n",
      " [6 7 2 1 9 5 3 4 8]\n",
      " [1 9 8 3 4 2 5 6 7]\n",
      " [8 5 9 7 6 1 4 2 3]\n",
      " [4 2 6 8 5 3 7 9 1]\n",
      " [7 1 3 9 2 4 8 5 6]\n",
      " [9 6 1 5 3 7 2 8 4]\n",
      " [2 8 7 4 1 9 6 3 5]\n",
      " [3 5 4 2 8 6 1 7 9]]\n",
      "Score: 1\n",
      "Score: 2\n",
      "Score: 3\n",
      "Score: 4\n",
      "Score: 5\n",
      "Score: 6\n",
      "Score: 7\n",
      "Score: 8\n",
      "Score: 9\n",
      "Score: 10\n",
      "Score: 11\n",
      "Score: 12\n",
      "Score: 13\n",
      "Score: 14\n",
      "Score: 15\n",
      "Score: 16\n",
      "Score: 17\n",
      "Score: 18\n",
      "Score: 19\n",
      "Score: 20\n",
      "Score: 21\n",
      "Score: 22\n",
      "Score: 23\n",
      "Score: 24\n",
      "Score: 25\n",
      "Score: 26\n",
      "Score: 27\n",
      "This is a correct solution for the sudoku.\n"
     ]
    }
   ],
   "source": [
    "#Here I have imported numpy so that I can treat the sudoku as a two dimensional array and not as a list\n",
    "import numpy as np\n",
    "#Here I have put a solved sudoku in so that we can use the checker on it.\n",
    "sudoku = np.array([[5,3,4,6,7,8,9,1,2],[6,7,2,1,9,5,3,4,8],[1,9,8,3,4,2,5,6,7],[8,5,9,7,6,1,4,2,3],[4,2,6,8,5,3,7,9,1],[7,1,3,9,2,4,8,5,6],[9,6,1,5,3,7,2,8,4],[2,8,7,4,1,9,6,3,5],[3,5,4,2,8,6,1,7,9]])\n",
    "print(sudoku)\n",
    "score = 0\n",
    "# print(sudoku[0:3,0:3]) This prints the first 3x3 grid\n",
    "# print(sudoku[0]) This prints the first row\n",
    "\n",
    "#This checks all the rows are correct.\n",
    "for i in range(0,9):\n",
    "    if 1 and 2 and 3 and 4 and 5 and 6 and 7 and 8 and 9 in sudoku[i]:\n",
    "        score+=1\n",
    "        print(\"Score:\",score)\n",
    "    else:\n",
    "        print(\"Error in row\", i)\n",
    "\n",
    "#This checks all the collumns are correct.\n",
    "for i in range(0,9):\n",
    "    if 1 and 2 and 3 and 4 and 5 and 6 and 7 and 8 and 9 in sudoku[:,i]:\n",
    "        score+=1\n",
    "        print(\"Score:\", score)\n",
    "    else:\n",
    "        print(\"Error in collumn:\", i)\n",
    "        \n",
    "#This checks that the 3x3 grids are correct\n",
    "for k in range(3,10,3):\n",
    "    m = k-3\n",
    "    for i in range(3,10,3): \n",
    "        j = i-3\n",
    "        if 1 and 2 and 3 and 4 and 5 and 6 and 7 and 8 and 9 in (sudoku[j:i,m:k]):\n",
    "            score+=1\n",
    "            print(\"Score:\", score)\n",
    "        else:\n",
    "            print(\"Error in grid:\", sudoku[j:i,m:k])\n",
    "\n",
    "if score==27:\n",
    "    print(\"This is a correct solution for the sudoku.\")\n",
    "else:\n",
    "    print(\"This solution is incorrect.\")"
   ]
  },
  {
   "cell_type": "code",
   "execution_count": 0,
   "metadata": {
    "collapsed": false
   },
   "outputs": [
   ],
   "source": [
   ]
  }
 ],
 "metadata": {
  "kernelspec": {
   "argv": [
    "/usr/bin/python3",
    "-m",
    "ipykernel",
    "--HistoryManager.enabled=False",
    "--matplotlib=inline",
    "-c",
    "%config InlineBackend.figure_formats = set(['retina'])\nimport matplotlib; matplotlib.rcParams['figure.figsize'] = (12, 7)",
    "-f",
    "{connection_file}"
   ],
   "display_name": "Python 3 (system-wide)",
   "env": {
   },
   "language": "python",
   "metadata": {
    "cocalc": {
     "description": "Python 3 programming language",
     "priority": 100,
     "url": "https://www.python.org/"
    }
   },
   "name": "python3",
   "resource_dir": "/ext/jupyter/kernels/python3"
  },
  "language_info": {
   "codemirror_mode": {
    "name": "ipython",
    "version": 3
   },
   "file_extension": ".py",
   "mimetype": "text/x-python",
   "name": "python",
   "nbconvert_exporter": "python",
   "pygments_lexer": "ipython3",
   "version": "3.10.6"
  }
 },
 "nbformat": 4,
 "nbformat_minor": 4
}